{
 "cells": [
  {
   "cell_type": "code",
   "execution_count": 14,
   "id": "d88700f5",
   "metadata": {},
   "outputs": [],
   "source": [
    "import lime\n",
    "import lime.lime_tabular\n",
    "\n",
    "import pandas as pd\n",
    "import numpy as np\n",
    "\n",
    "# Read the Excel file\n",
    "df = pd.read_excel('FoodAccessResearchAtlasData2019.xlsx', sheet_name='Food Access Research Atlas')\n",
    "\n",
    "# Convert to CSV and save\n",
    "df.to_csv('Food_Access_Research_Atlas_Raw_Data.csv', index=False)"
   ]
  },
  {
   "cell_type": "code",
   "execution_count": 15,
   "id": "43df79db",
   "metadata": {},
   "outputs": [],
   "source": [
    "# Open the CSV file and read it into a DataFrame\n",
    "df = pd.read_csv('Food_Access_Research_Atlas_Raw_Data.csv')\n"
   ]
  },
  {
   "cell_type": "code",
   "execution_count": 16,
   "id": "efa6fad0",
   "metadata": {},
   "outputs": [],
   "source": [
    "# Create a new DataFrame with only the columns relevant to research\n",
    "new_df = df[['CensusTract', 'Urban', 'Pop2010','LILATracts_1And10', 'LILATracts_halfAnd10', 'LILATracts_1And20', 'LILATracts_Vehicle',\n",
    "            'HUNVFlag', 'LowIncomeTracts', 'PovertyRate', 'MedianFamilyIncome', 'LA1and10', 'LAhalfand10', 'LA1and20', 'LATracts_half',\n",
    "             'LATracts1', 'LATracts10', 'LATracts20', 'LATractsVehicle_20', 'LAPOP1_10', 'LAPOP05_10', 'LAPOP1_20', 'LALOWI1_10',\n",
    "             'LALOWI05_10', 'LALOWI1_20', 'lapophalf', 'lapophalfshare', 'lalowihalf', 'lalowihalfshare', 'lalowi1', 'lalowi1share',\n",
    "             'lapop10', 'lapop10share', 'lalowi10', 'lalowi10share', 'lahunv10', 'lahunv10share', 'lapop20', 'lapop20share', 'lalowi20', \n",
    "             'lalowi20share', 'lahunv20', 'lahunv20share', 'TractLOWI'\n",
    "]]\n",
    "\n",
    "# Save the new DataFrame to a CSV file\n",
    "new_df.to_csv('Food_Access_Research_Atlas_Restricted_Data.csv', index=False)"
   ]
  },
  {
   "cell_type": "code",
   "execution_count": 17,
   "id": "fd73dd5c",
   "metadata": {},
   "outputs": [],
   "source": [
    "#Check for missing values in each column\n",
    "#print(new_df.isnull().sum())"
   ]
  },
  {
   "cell_type": "code",
   "execution_count": 18,
   "id": "90b31ccd",
   "metadata": {},
   "outputs": [],
   "source": [
    "#get rid of missing values\n",
    "new_df = new_df.dropna()"
   ]
  },
  {
   "cell_type": "code",
   "execution_count": 19,
   "id": "2b153909",
   "metadata": {},
   "outputs": [],
   "source": [
    "#check for values again\n",
    "#print(new_df.isnull().sum())"
   ]
  },
  {
   "cell_type": "code",
   "execution_count": 20,
   "id": "115e72ab",
   "metadata": {},
   "outputs": [
    {
     "name": "stdout",
     "output_type": "stream",
     "text": [
      "0.8047138047138047\n",
      "              precision    recall  f1-score   support\n",
      "\n",
      "           0       0.80      1.00      0.89       239\n",
      "           1       0.00      0.00      0.00        58\n",
      "\n",
      "    accuracy                           0.80       297\n",
      "   macro avg       0.40      0.50      0.45       297\n",
      "weighted avg       0.65      0.80      0.72       297\n",
      "\n"
     ]
    },
    {
     "name": "stderr",
     "output_type": "stream",
     "text": [
      "C:\\Users\\sergi\\anaconda3\\lib\\site-packages\\sklearn\\metrics\\_classification.py:1318: UndefinedMetricWarning: Precision and F-score are ill-defined and being set to 0.0 in labels with no predicted samples. Use `zero_division` parameter to control this behavior.\n",
      "  _warn_prf(average, modifier, msg_start, len(result))\n",
      "C:\\Users\\sergi\\anaconda3\\lib\\site-packages\\sklearn\\metrics\\_classification.py:1318: UndefinedMetricWarning: Precision and F-score are ill-defined and being set to 0.0 in labels with no predicted samples. Use `zero_division` parameter to control this behavior.\n",
      "  _warn_prf(average, modifier, msg_start, len(result))\n",
      "C:\\Users\\sergi\\anaconda3\\lib\\site-packages\\sklearn\\metrics\\_classification.py:1318: UndefinedMetricWarning: Precision and F-score are ill-defined and being set to 0.0 in labels with no predicted samples. Use `zero_division` parameter to control this behavior.\n",
      "  _warn_prf(average, modifier, msg_start, len(result))\n"
     ]
    }
   ],
   "source": [
    "\n",
    "train_features = new_df[['CensusTract', 'Pop2010', 'PovertyRate', 'MedianFamilyIncome', 'LAPOP1_10', 'LAPOP05_10', 'LAPOP1_20', 'LALOWI1_10',\n",
    "             'LALOWI05_10', 'LALOWI1_20', 'lapophalf', 'lapophalfshare', 'lalowihalf', 'lalowihalfshare', 'lalowi1', 'lalowi1share',\n",
    "             'lapop10', 'lapop10share', 'lalowi10', 'lalowi10share', 'lahunv10', 'lahunv10share', 'lapop20', 'lapop20share', 'lalowi20', \n",
    "             'lalowi20share', 'lahunv20', 'lahunv20share']]\n",
    "\n",
    "from sklearn.linear_model import LogisticRegression\n",
    "from sklearn.model_selection import train_test_split\n",
    "from sklearn.metrics import classification_report\n",
    "\n",
    "# Create a new outcome column based on the combination of features\n",
    "new_df['NewOutcome'] = ((new_df['PovertyRate'] >= 20) & \n",
    "                        (new_df['LAPOP1_10'] >= 50) & \n",
    "                        (new_df['lapophalfshare'] >= 10)).astype(int)\n",
    "\n",
    "# Separate the data into features and target\n",
    "X = train_features\n",
    "Y = new_df['NewOutcome']\n",
    "\n",
    "# Split data into training/testing sets\n",
    "X_train, X_test, Y_train, Y_test = train_test_split(X, Y, test_size=0.2, random_state=42)\n",
    "\n",
    "# Train the model\n",
    "model = LogisticRegression(max_iter=1000)\n",
    "model.fit(X_train, Y_train)\n",
    "Y_pred = model.predict(X_test)\n",
    "\n",
    "# Evaluate\n",
    "accuracy = model.score(X_test, Y_test)\n",
    "print(accuracy)\n",
    "print(classification_report(Y_test, Y_pred))\n"
   ]
  },
  {
   "cell_type": "code",
   "execution_count": 25,
   "id": "236fcd73",
   "metadata": {},
   "outputs": [
    {
     "name": "stdout",
     "output_type": "stream",
     "text": [
      "251       1047957000\n",
      "284       1053969800\n",
      "633       1085781100\n",
      "866       1099075600\n",
      "998       1113031100\n",
      "            ...     \n",
      "72519    56039967600\n",
      "72523    56041975200\n",
      "72524    56041975300\n",
      "72526    56043000200\n",
      "72529    56045951100\n",
      "Name: CensusTract, Length: 1483, dtype: int64\n",
      "Census tract found in dataset\n"
     ]
    },
    {
     "data": {
      "text/plain": [
       "'Not a food desert'"
      ]
     },
     "execution_count": 25,
     "metadata": {},
     "output_type": "execute_result"
    }
   ],
   "source": [
    "print(new_df['CensusTract'])\n",
    "def predict_food_desert(census_tract):\n",
    "    # Find the row corresponding to the given census tract\n",
    "    row = train_features.loc[train_features['CensusTract'] == census_tract]\n",
    "    # Check if the row was found\n",
    "    if row.empty:\n",
    "        return \"Error: Census tract not found\"\n",
    "    # Extract the features from the row\n",
    "    features = row.drop(['CensusTract'], axis=1)\n",
    "    # Make a prediction using the trained model\n",
    "    prediction = model.predict(train_features)\n",
    "    # Return the prediction\n",
    "    if prediction[0] == 0:\n",
    "        return \"Not a food desert\"\n",
    "    else:\n",
    "        return \"Food desert\"\n",
    "\n",
    "tract_code = 45015020401\n",
    "if tract_code in new_df[\"CensusTract\"].values:\n",
    "    print(\"Census tract found in dataset\")\n",
    "else:\n",
    "    print(\"Census tract not found in dataset\")\n",
    "predict_food_desert(45015020401)"
   ]
  },
  {
   "cell_type": "code",
   "execution_count": null,
   "id": "1dcf09c5",
   "metadata": {},
   "outputs": [],
   "source": []
  }
 ],
 "metadata": {
  "kernelspec": {
   "display_name": "Python 3 (ipykernel)",
   "language": "python",
   "name": "python3"
  },
  "language_info": {
   "codemirror_mode": {
    "name": "ipython",
    "version": 3
   },
   "file_extension": ".py",
   "mimetype": "text/x-python",
   "name": "python",
   "nbconvert_exporter": "python",
   "pygments_lexer": "ipython3",
   "version": "3.9.13"
  }
 },
 "nbformat": 4,
 "nbformat_minor": 5
}
